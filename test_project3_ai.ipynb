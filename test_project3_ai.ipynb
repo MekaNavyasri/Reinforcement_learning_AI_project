{
  "nbformat": 4,
  "nbformat_minor": 0,
  "metadata": {
    "colab": {
      "provenance": []
    },
    "kernelspec": {
      "name": "python3",
      "display_name": "Python 3"
    },
    "language_info": {
      "name": "python"
    }
  },
  "cells": [
    {
      "cell_type": "markdown",
      "source": [
        "This is a test to check whether my algorithm works accurate or not using the example given in the markov decision processes for value iteration algorithm."
      ],
      "metadata": {
        "id": "ftW3p4p8mOw5"
      }
    },
    {
      "cell_type": "markdown",
      "source": [
        "#value check"
      ],
      "metadata": {
        "id": "R6xc_XElyoGL"
      }
    },
    {
      "cell_type": "code",
      "source": [
        "r = 0 #live-in reward\n",
        "R1 = 1 #exit reward\n",
        "R2 = -1 #hazard reward\n",
        "D, H = (4,3), (4,2) #destination, hazard\n",
        "U = {(col, row):0 for col in range(1,5) for row in range(1,4)}\n",
        "U_new = {(col, row):0 for col in range(1,5) for row in range(1,4)}\n",
        "reward = {(col, row):r for col in range(1,5) for row in range(1,4)}\n",
        "U[D]= R1\n",
        "U[H]= R2\n",
        "U_new[D]= R1\n",
        "U_new[H]= R2\n",
        "reward[D]= R1\n",
        "reward[H]= R2\n",
        "obstacle = (2,2)\n",
        "U[obstacle] = None\n",
        "U_new[obstacle] = None\n",
        "reward[obstacle] = None\n",
        "print(U)\n",
        "print(U_new)\n",
        "print(reward)"
      ],
      "metadata": {
        "colab": {
          "base_uri": "https://localhost:8080/"
        },
        "id": "8YdIU9jBDmqn",
        "outputId": "d72443af-c068-4580-876c-b8f5445f55f0"
      },
      "execution_count": null,
      "outputs": [
        {
          "output_type": "stream",
          "name": "stdout",
          "text": [
            "{(1, 1): 0, (1, 2): 0, (1, 3): 0, (2, 1): 0, (2, 2): None, (2, 3): 0, (3, 1): 0, (3, 2): 0, (3, 3): 0, (4, 1): 0, (4, 2): -1, (4, 3): 1}\n",
            "{(1, 1): 0, (1, 2): 0, (1, 3): 0, (2, 1): 0, (2, 2): None, (2, 3): 0, (3, 1): 0, (3, 2): 0, (3, 3): 0, (4, 1): 0, (4, 2): -1, (4, 3): 1}\n",
            "{(1, 1): 0, (1, 2): 0, (1, 3): 0, (2, 1): 0, (2, 2): None, (2, 3): 0, (3, 1): 0, (3, 2): 0, (3, 3): 0, (4, 1): 0, (4, 2): -1, (4, 3): 1}\n"
          ]
        }
      ]
    },
    {
      "cell_type": "code",
      "source": [
        "def update_directions(directions,obstacle,col_size,row_size,curr_state):\n",
        "  for i in range(len(directions)):\n",
        "    if (directions[i] == obstacle) or (directions[i][0] > col_size or directions[i][1] > row_size) or (directions[i][0] < 1 or directions[i][1] < 1):\n",
        "      directions[i] = curr_state\n",
        "    # if directions[i][0] > col_size or directions[i][1] > row_size:\n",
        "    #   directions[i] = None\n",
        "  return directions\n",
        "\n",
        "def pattern_order(destination=(4,3), obstacle=(2,2), col_size=4, row_size=3, hazard=(4,2)):\n",
        "  visited_nodes = []\n",
        "  curr_child_nodes = [destination]\n",
        "  child_nodes_order = []\n",
        "  while curr_child_nodes:\n",
        "    nxt_list = []\n",
        "    for child in curr_child_nodes:\n",
        "      col, row = child\n",
        "      next_children = [(col+1,row),(col, row+1),(col-1, row),(col, row-1)]\n",
        "      possible_nxt_child = list(set(update_directions(next_children,obstacle,col_size,row_size,(col,row))))\n",
        "      for node in possible_nxt_child:\n",
        "        nxt_list.append(node) if (node not in visited_nodes and node not in [destination, hazard]) else nxt_list\n",
        "        visited_nodes.append(node) if (node not in visited_nodes and node not in [destination,hazard]) else visited_nodes\n",
        "    child_nodes_order.append(nxt_list)\n",
        "    curr_child_nodes = nxt_list\n",
        "    # print(curr_child_nodes)\n",
        "  return visited_nodes, child_nodes_order\n"
      ],
      "metadata": {
        "id": "H23bsi7dF0y-"
      },
      "execution_count": null,
      "outputs": []
    },
    {
      "cell_type": "code",
      "source": [
        "u, v = pattern_order((4,3),(2,2),4,3,(4,2))\n",
        "print(u)\n",
        "print(v)"
      ],
      "metadata": {
        "colab": {
          "base_uri": "https://localhost:8080/"
        },
        "id": "7b__gFMda1Tu",
        "outputId": "cb525812-fc0f-4bfb-c0f7-0b2558e87501"
      },
      "execution_count": null,
      "outputs": [
        {
          "output_type": "stream",
          "name": "stdout",
          "text": [
            "[(3, 3), (2, 3), (3, 2), (1, 3), (3, 1), (1, 2), (4, 1), (2, 1), (1, 1)]\n",
            "[[(3, 3)], [(2, 3), (3, 2)], [(1, 3), (3, 1)], [(1, 2), (4, 1), (2, 1)], [(1, 1)], []]\n"
          ]
        }
      ]
    },
    {
      "cell_type": "code",
      "execution_count": null,
      "metadata": {
        "id": "7rNqwAlFDg20"
      },
      "outputs": [],
      "source": [
        "def max_prob(state, U, col_size, row_size, obstacle):\n",
        "  col, row = state\n",
        "  opp_directions = {'up':'down', 'down':'up', 'right':'left', 'left':'right'}\n",
        "  new_directions = [(col+1,row),(col, row+1),(col-1, row),(col, row-1)] #right, up, left, down\n",
        "  directions = update_directions(new_directions,obstacle,col_size,row_size,(col,row))\n",
        "  intended_directions = ['up', 'down', 'left', 'right']\n",
        "  val = 0\n",
        "  curr_right,curr_up,curr_left,curr_down  = directions[0], directions[1], directions[2], directions[3]\n",
        "  for direction in intended_directions:\n",
        "    if direction == 'up':\n",
        "      curr_utility = 0.8*U[curr_up] + 0.1*U[curr_left] + 0.1*U[curr_right]\n",
        "      val = max(val, curr_utility)\n",
        "    elif direction == 'down':\n",
        "      curr_utility = 0.8*U[curr_down] + 0.1*U[curr_left] + 0.1*U[curr_right]\n",
        "      val = max(val, curr_utility)\n",
        "    elif direction == 'left':\n",
        "      curr_utility = 0.8*U[curr_left] + 0.1*U[curr_up] + 0.1*U[curr_down]\n",
        "      val = max(val, curr_utility)\n",
        "    elif direction == 'right':\n",
        "      curr_utility = 0.8*U[curr_right] + 0.1*U[curr_up] + 0.1*U[curr_down]\n",
        "      val = max(val, curr_utility)\n",
        "  return val"
      ]
    },
    {
      "cell_type": "code",
      "source": [
        "import copy\n",
        "col_size, row_size = 4,3\n",
        "def valueIteration(threshold_value=0.01, max_iter=9, gamma=0.9, reward=reward, U=U, obstacle=obstacle, U_new=U_new,col_size=4, row_size=3, destination=(4,3), hazard=(4,2)):\n",
        "    #\n",
        "  # U = {(col, row): 0 for col in range(1,6) for row in range(1,6)}\n",
        "  # for _ in range(max_iter):\n",
        "    # U_new = copy.deepcopy(U)\n",
        "    curr_seen = seen = [destination]\n",
        "    k = 1\n",
        "    not_threshold_condition = True\n",
        "    all_states_order, child_nodes_order = pattern_order(destination,obstacle,col_size,row_size,hazard)\n",
        "    while not_threshold_condition and k < max_iter:\n",
        "        k += 1\n",
        "      # if k <= len(child_nodes_order):\n",
        "      #   for child in child_nodes_order[:k]:\n",
        "      #     # print(child)\n",
        "      #     for state in child:\n",
        "      #       # print(f'u value before and type- {U[state], type(U[state])}')\n",
        "      #       U_new[state] = round(reward[state] + gamma * max_prob(state, U, col_size, row_size, obstacle),2)\n",
        "      #       # print(f'u value and type- {U[state], type(U[state])}')\n",
        "      #       # print(f'u_new value and type- {U_new[state], type(U_new[state])}')\n",
        "      #       # print(U_new[state] - U[state])\n",
        "      #       not_threshold_condition = (not_threshold_condition and (U_new[state] - U[state] < threshold_value))\n",
        "      #       # print(U_new[state] - U[state], not_threshold_condition)\n",
        "      # else:\n",
        "        for state in all_states_order:\n",
        "          U_new[state] = round(reward[state] + gamma * max_prob(state, U, col_size, row_size, obstacle),2)\n",
        "          not_threshold_condition = (not_threshold_condition and (U_new[state] - U[state] < threshold_value))\n",
        "\n",
        "        not_threshold_condition = not (not_threshold_condition)\n",
        "        U = copy.deepcopy(U_new)\n",
        "      # not_threshold_condition = not (not_threshold_condition)\n",
        "      # U = copy.deepcopy(U_new)\n",
        "    print(f\"At what iteration it's stopping {k}\")\n",
        "    return U"
      ],
      "metadata": {
        "id": "ponrAQcWEfnF"
      },
      "execution_count": null,
      "outputs": []
    },
    {
      "cell_type": "code",
      "source": [
        "# u1 = valueIteration(0.01, 1, 0.9,reward, U, obstacle, U_new, 4, 3,(4,3),(4,2))\n",
        "# u1"
      ],
      "metadata": {
        "colab": {
          "base_uri": "https://localhost:8080/"
        },
        "id": "hyMnQrHpidmX",
        "outputId": "c95ec184-3fd6-43a5-92d0-79df17409aca"
      },
      "execution_count": null,
      "outputs": [
        {
          "output_type": "execute_result",
          "data": {
            "text/plain": [
              "{(1, 1): 0,\n",
              " (1, 2): 0,\n",
              " (1, 3): 0,\n",
              " (2, 1): 0,\n",
              " (2, 2): None,\n",
              " (2, 3): 0,\n",
              " (3, 1): 0,\n",
              " (3, 2): 0,\n",
              " (3, 3): 0,\n",
              " (4, 1): 0,\n",
              " (4, 2): -1,\n",
              " (4, 3): 1}"
            ]
          },
          "metadata": {},
          "execution_count": 6
        }
      ]
    },
    {
      "cell_type": "code",
      "source": [
        "# u2 = valueIteration(0.01, 2, 0.9,reward, U, obstacle, U_new, 4, 3,(4,3),(4,2))\n",
        "# u2"
      ],
      "metadata": {
        "colab": {
          "base_uri": "https://localhost:8080/"
        },
        "id": "5zqChG4kG5f-",
        "outputId": "964e929d-efc7-4929-ed75-7d40f5496cdb"
      },
      "execution_count": null,
      "outputs": [
        {
          "output_type": "execute_result",
          "data": {
            "text/plain": [
              "{(1, 1): 0,\n",
              " (1, 2): 0,\n",
              " (1, 3): 0,\n",
              " (2, 1): 0,\n",
              " (2, 2): None,\n",
              " (2, 3): 0.0,\n",
              " (3, 1): 0,\n",
              " (3, 2): 0.0,\n",
              " (3, 3): 0.72,\n",
              " (4, 1): 0,\n",
              " (4, 2): -1,\n",
              " (4, 3): 1}"
            ]
          },
          "metadata": {},
          "execution_count": 6
        }
      ]
    },
    {
      "cell_type": "code",
      "source": [
        "# u3 = valueIteration(0.01, 3, 0.9,reward, U, obstacle, U_new, 4, 3,(4,3),(4,2))\n",
        "# u3"
      ],
      "metadata": {
        "id": "sk1sXhGuHBbc",
        "colab": {
          "base_uri": "https://localhost:8080/"
        },
        "outputId": "1ff72e20-a0aa-47b2-b514-9ed44e5aca47"
      },
      "execution_count": null,
      "outputs": [
        {
          "output_type": "execute_result",
          "data": {
            "text/plain": [
              "{(1, 1): 0,\n",
              " (1, 2): 0,\n",
              " (1, 3): 0.0,\n",
              " (2, 1): 0,\n",
              " (2, 2): None,\n",
              " (2, 3): 0.52,\n",
              " (3, 1): 0.0,\n",
              " (3, 2): 0.43,\n",
              " (3, 3): 0.78,\n",
              " (4, 1): 0,\n",
              " (4, 2): -1,\n",
              " (4, 3): 1}"
            ]
          },
          "metadata": {},
          "execution_count": 6
        }
      ]
    },
    {
      "cell_type": "code",
      "source": [
        "# u6 = valueIteration(0.01, 6, 0.9,reward, U, obstacle, U_new, 4, 3,(4,3),(4,2))\n",
        "# u6"
      ],
      "metadata": {
        "colab": {
          "base_uri": "https://localhost:8080/"
        },
        "id": "wZ3MEpiueXzz",
        "outputId": "8fe000b0-3278-40a8-fd5b-bff72c7e7479"
      },
      "execution_count": null,
      "outputs": [
        {
          "output_type": "stream",
          "name": "stdout",
          "text": [
            "At what iteration it's stopping 6\n"
          ]
        },
        {
          "output_type": "execute_result",
          "data": {
            "text/plain": [
              "{(1, 1): 0.21,\n",
              " (1, 2): 0.42,\n",
              " (1, 3): 0.59,\n",
              " (2, 1): 0.31,\n",
              " (2, 2): None,\n",
              " (2, 3): 0.73,\n",
              " (3, 1): 0.43,\n",
              " (3, 2): 0.56,\n",
              " (3, 3): 0.85,\n",
              " (4, 1): 0.19,\n",
              " (4, 2): -1,\n",
              " (4, 3): 1}"
            ]
          },
          "metadata": {},
          "execution_count": 6
        }
      ]
    },
    {
      "cell_type": "code",
      "source": [
        "# u7 = valueIteration(0.01, 7, 0.9,reward, U, obstacle, U_new, 4, 3,(4,3),(4,2))\n",
        "# u7"
      ],
      "metadata": {
        "colab": {
          "base_uri": "https://localhost:8080/"
        },
        "id": "GgoRtDgZiyeP",
        "outputId": "6902eb2e-682f-4f36-e54c-43f4036aa5a5"
      },
      "execution_count": null,
      "outputs": [
        {
          "output_type": "execute_result",
          "data": {
            "text/plain": [
              "{(1, 1): 0.35,\n",
              " (1, 2): 0.5,\n",
              " (1, 3): 0.62,\n",
              " (2, 1): 0.37,\n",
              " (2, 2): None,\n",
              " (2, 3): 0.74,\n",
              " (3, 1): 0.45,\n",
              " (3, 2): 0.57,\n",
              " (3, 3): 0.85,\n",
              " (4, 1): 0.24,\n",
              " (4, 2): -1,\n",
              " (4, 3): 1}"
            ]
          },
          "metadata": {},
          "execution_count": 6
        }
      ]
    },
    {
      "cell_type": "code",
      "source": [
        "# u100 = valueIteration(0.01, 100, 0.9,reward, U, obstacle, U_new, 4, 3,(4,3),(4,2))\n",
        "# u100"
      ],
      "metadata": {
        "colab": {
          "base_uri": "https://localhost:8080/"
        },
        "id": "Kbm-tS7fjS8V",
        "outputId": "b0cbf98c-4554-4f23-86c2-30ab69725ceb"
      },
      "execution_count": null,
      "outputs": [
        {
          "output_type": "stream",
          "name": "stdout",
          "text": [
            "At what iteration it's stopping 13\n"
          ]
        },
        {
          "output_type": "execute_result",
          "data": {
            "text/plain": [
              "{(1, 1): 0.49,\n",
              " (1, 2): 0.57,\n",
              " (1, 3): 0.65,\n",
              " (2, 1): 0.43,\n",
              " (2, 2): None,\n",
              " (2, 3): 0.75,\n",
              " (3, 1): 0.47,\n",
              " (3, 2): 0.57,\n",
              " (3, 3): 0.85,\n",
              " (4, 1): 0.27,\n",
              " (4, 2): -1,\n",
              " (4, 3): 1}"
            ]
          },
          "metadata": {},
          "execution_count": 6
        }
      ]
    },
    {
      "cell_type": "code",
      "source": [
        "u500 = valueIteration(0.01, 500, 0.9,reward, U, obstacle, U_new, 4, 3,(4,3),(4,2))\n",
        "u500"
      ],
      "metadata": {
        "colab": {
          "base_uri": "https://localhost:8080/"
        },
        "id": "Pa3RgY9rkD8Y",
        "outputId": "df144219-48f1-495a-9e76-0279c5de4a39"
      },
      "execution_count": null,
      "outputs": [
        {
          "output_type": "stream",
          "name": "stdout",
          "text": [
            "At what iteration it's stopping 13\n"
          ]
        },
        {
          "output_type": "execute_result",
          "data": {
            "text/plain": [
              "{(1, 1): 0.49,\n",
              " (1, 2): 0.57,\n",
              " (1, 3): 0.65,\n",
              " (2, 1): 0.43,\n",
              " (2, 2): None,\n",
              " (2, 3): 0.75,\n",
              " (3, 1): 0.47,\n",
              " (3, 2): 0.57,\n",
              " (3, 3): 0.85,\n",
              " (4, 1): 0.27,\n",
              " (4, 2): -1,\n",
              " (4, 3): 1}"
            ]
          },
          "metadata": {},
          "execution_count": 6
        }
      ]
    },
    {
      "cell_type": "markdown",
      "source": [
        "1. Here, we can see that for 100th iteration and 500th iteration we got the sme value meaning it didn't run for 500 iterations instead stopped when the threshold value is < 0.01\n",
        "2. Here the ui represents the ith iteration u100 is 100th iteration when I tested with the iterations from 1,2,3,6,7 and 100 which were commented in the above cells, got the same value as shown in the slides.\n",
        "3. Hence, we can prove that my algorithm works accurate in accordance with the logic provided by the professor."
      ],
      "metadata": {
        "id": "kN8WbQtSkrte"
      }
    },
    {
      "cell_type": "markdown",
      "source": [
        "#visualisation check"
      ],
      "metadata": {
        "id": "8KJk83bPylQA"
      }
    },
    {
      "cell_type": "code",
      "source": [
        "!pip install tabulate"
      ],
      "metadata": {
        "colab": {
          "base_uri": "https://localhost:8080/"
        },
        "id": "qP3vNO7Jkjst",
        "outputId": "2bd29b4b-6665-41fb-8e33-1f0c8180c61d"
      },
      "execution_count": null,
      "outputs": [
        {
          "output_type": "stream",
          "name": "stdout",
          "text": [
            "Requirement already satisfied: tabulate in /usr/local/lib/python3.10/dist-packages (0.9.0)\n"
          ]
        }
      ]
    },
    {
      "cell_type": "code",
      "source": [
        "from tabulate import tabulate\n",
        "def visualise_table(row_size=3,col_size=4,input_val=u500):\n",
        "  table = []\n",
        "  for row in range(row_size,0,-1):\n",
        "    new_table_value = []\n",
        "    for col in range(1,col_size+1):\n",
        "      if not input_val[(col,row)]:\n",
        "        input_val[(col,row)] = 'X'\n",
        "      new_table_value.append(input_val[(col,row)])\n",
        "    table.append(new_table_value)\n",
        "  return table, tabulate(table, tablefmt=\"fancy_grid\")\n"
      ],
      "metadata": {
        "id": "fNnMbE4uw_ct"
      },
      "execution_count": null,
      "outputs": []
    },
    {
      "cell_type": "code",
      "source": [
        "u_tba, v = visualise_table(3,4,u500)\n",
        "print(u_tba)\n",
        "print(v)"
      ],
      "metadata": {
        "colab": {
          "base_uri": "https://localhost:8080/"
        },
        "id": "33js_QS20b8B",
        "outputId": "aa64c790-1e5f-435b-b94a-d9284d49950f"
      },
      "execution_count": null,
      "outputs": [
        {
          "output_type": "stream",
          "name": "stdout",
          "text": [
            "[[0.65, 0.75, 0.85, 1], [0.57, 'X', 0.57, -1], [0.49, 0.43, 0.47, 0.27]]\n",
            "╒══════╤══════╤══════╤═══════╕\n",
            "│ 0.65 │ 0.75 │ 0.85 │  1    │\n",
            "├──────┼──────┼──────┼───────┤\n",
            "│ 0.57 │ X    │ 0.57 │ -1    │\n",
            "├──────┼──────┼──────┼───────┤\n",
            "│ 0.49 │ 0.43 │ 0.47 │  0.27 │\n",
            "╘══════╧══════╧══════╧═══════╛\n"
          ]
        }
      ]
    },
    {
      "cell_type": "code",
      "source": [
        "def get_arrow(row, col, table, obstacle, destination, hazard):\n",
        "  directions = [(row,col+1),(row+1,col),(row,col-1),(row-1,col)] #right, down, left, up\n",
        "  row_size,col_size = len(table), len(table[0])\n",
        "  # print(f'directions prior{directions}')\n",
        "  for i in range(len(directions)):\n",
        "    row_val, col_val = directions[i][0], directions[i][1]\n",
        "    # table_val = table[row_val][col_val]\n",
        "    if (row_val >= row_size or col_val >= col_size) or (row_val < 0 or col_val < 0):\n",
        "      directions[i] = None\n",
        "    elif (row_val < row_size and col_val < col_size) and (row_val >= 0 and col_val >= 0):\n",
        "      if (table[row_val][col_val] == 'X'): #or ((col_val+1,len(table)-row_val) == destination) or ((col_val+1,len(table)-row_val) == hazard):\n",
        "        directions[i] = None\n",
        "  # print(directions)\n",
        "  values = []\n",
        "  for direction in directions:\n",
        "    if direction:\n",
        "      row_val, col_val = direction\n",
        "      # print(f'direction - {row_val,col_val}')\n",
        "      values.append(table[row_val][col_val])\n",
        "    else:\n",
        "      values.append(float('-inf'))\n",
        "  # print(values)\n",
        "  max_value = max(values)\n",
        "  # index_max_val = values.index(max_value)\n",
        "  index_max_val = [i for i, value in enumerate(values) if value == max_value]\n",
        "  ans = ''\n",
        "  for index_val in index_max_val:\n",
        "    if index_val == 0: #right\n",
        "      ans += '→'\n",
        "    elif index_val == 1: #down\n",
        "      ans += '↓'\n",
        "    elif index_val == 2: #left\n",
        "      ans += '←'\n",
        "    elif index_val == 3: #up\n",
        "      ans += '↑'\n",
        "  return ans\n",
        "\n",
        "def visualise_policy(table=u_tba,destination=D,hazard=H,obstacle1=obstacle):\n",
        "  arrow = []\n",
        "  for row in range(len(table)):\n",
        "    new_arrow = []\n",
        "    for col in range(len(table[row])):\n",
        "      if (col+1,len(table)-row) != destination and (col+1,len(table)-row) != hazard and (col+1,len(table)-row) != obstacle1:\n",
        "        arrow_direction = get_arrow(row,col,table,obstacle1,destination,hazard)\n",
        "      else:\n",
        "        arrow_direction = table[row][col]\n",
        "      new_arrow.append(arrow_direction)\n",
        "    arrow.append(new_arrow)\n",
        "  return tabulate(arrow, tablefmt=\"fancy_grid\")\n"
      ],
      "metadata": {
        "id": "Ky1gTGjyypEQ"
      },
      "execution_count": null,
      "outputs": []
    },
    {
      "cell_type": "code",
      "source": [
        "values = [1,2,2,0]\n",
        "max_value = max(values)\n",
        "index_max_val = [i for i, value in enumerate(values) if value == max_value]\n",
        "index_max_val"
      ],
      "metadata": {
        "colab": {
          "base_uri": "https://localhost:8080/"
        },
        "id": "ZY_4faPRJMtp",
        "outputId": "de661470-644d-4285-cdd4-4136d47a2fb6"
      },
      "execution_count": null,
      "outputs": [
        {
          "output_type": "execute_result",
          "data": {
            "text/plain": [
              "[1, 2]"
            ]
          },
          "metadata": {},
          "execution_count": 11
        }
      ]
    },
    {
      "cell_type": "code",
      "source": [
        "policy = visualise_policy(u_tba, D, H, obstacle)\n",
        "print(policy)"
      ],
      "metadata": {
        "colab": {
          "base_uri": "https://localhost:8080/"
        },
        "id": "A0_A8_FCyO7x",
        "outputId": "34fb6d7b-a997-48fe-ee0a-abe15c55acb6"
      },
      "execution_count": null,
      "outputs": [
        {
          "output_type": "stream",
          "name": "stdout",
          "text": [
            "╒═══╤═══╤═══╤════╕\n",
            "│ → │ → │ → │ 1  │\n",
            "├───┼───┼───┼────┤\n",
            "│ ↑ │ X │ ↑ │ -1 │\n",
            "├───┼───┼───┼────┤\n",
            "│ ↑ │ ← │ ↑ │ ←  │\n",
            "╘═══╧═══╧═══╧════╛\n"
          ]
        }
      ]
    },
    {
      "cell_type": "markdown",
      "source": [
        "Here, we can see that our table does interpret same as shown in the slides both for values placement and arrows placement hence we can say that my algorithm works accurately for both values and visualisation."
      ],
      "metadata": {
        "id": "EthJvcglygmf"
      }
    },
    {
      "cell_type": "code",
      "source": [],
      "metadata": {
        "id": "j9RGidNvUSVU"
      },
      "execution_count": null,
      "outputs": []
    },
    {
      "cell_type": "code",
      "source": [],
      "metadata": {
        "id": "HGzsWzXhUTv7"
      },
      "execution_count": null,
      "outputs": []
    }
  ]
}