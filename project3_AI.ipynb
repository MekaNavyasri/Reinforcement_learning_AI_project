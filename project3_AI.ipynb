{
  "nbformat": 4,
  "nbformat_minor": 0,
  "metadata": {
    "colab": {
      "provenance": []
    },
    "kernelspec": {
      "name": "python3",
      "display_name": "Python 3"
    },
    "language_info": {
      "name": "python"
    }
  },
  "cells": [
    {
      "cell_type": "markdown",
      "source": [
        "#T1"
      ],
      "metadata": {
        "id": "YuvP4XvrCb9d"
      }
    },
    {
      "cell_type": "code",
      "source": [
        "r = -5 #live-in reward\n",
        "R1 = 10 #exit reward\n",
        "R2 = -5 #hazard reward\n",
        "D, H = (4,5), (3,3) #destination, hazard\n",
        "U = {(col, row):0 for col in range(1,6) for row in range(1,6)}\n",
        "U_new = {(col, row):0 for col in range(1,6) for row in range(1,6)}\n",
        "reward = {(col, row):r for col in range(1,6) for row in range(1,6)}\n",
        "U[D]= R1\n",
        "U[H]= R2\n",
        "U_new[D]= R1\n",
        "U_new[H]= R2\n",
        "reward[D]= R1\n",
        "reward[H]= R2\n",
        "obstacle = ((1,1),(1,5),(5,1),(5,5))\n",
        "for i in obstacle:\n",
        "  U[i] = None\n",
        "  U_new[i] = None\n",
        "  reward[i] = None\n",
        "print(U)\n",
        "print(U_new)\n",
        "print(reward)"
      ],
      "metadata": {
        "colab": {
          "base_uri": "https://localhost:8080/"
        },
        "id": "QXcKCb9V2IYU",
        "outputId": "77abcb9d-8510-45ae-ca44-71317d6a9922"
      },
      "execution_count": 1,
      "outputs": [
        {
          "output_type": "stream",
          "name": "stdout",
          "text": [
            "{(1, 1): None, (1, 2): 0, (1, 3): 0, (1, 4): 0, (1, 5): None, (2, 1): 0, (2, 2): 0, (2, 3): 0, (2, 4): 0, (2, 5): 0, (3, 1): 0, (3, 2): 0, (3, 3): -5, (3, 4): 0, (3, 5): 0, (4, 1): 0, (4, 2): 0, (4, 3): 0, (4, 4): 0, (4, 5): 10, (5, 1): None, (5, 2): 0, (5, 3): 0, (5, 4): 0, (5, 5): None}\n",
            "{(1, 1): None, (1, 2): 0, (1, 3): 0, (1, 4): 0, (1, 5): None, (2, 1): 0, (2, 2): 0, (2, 3): 0, (2, 4): 0, (2, 5): 0, (3, 1): 0, (3, 2): 0, (3, 3): -5, (3, 4): 0, (3, 5): 0, (4, 1): 0, (4, 2): 0, (4, 3): 0, (4, 4): 0, (4, 5): 10, (5, 1): None, (5, 2): 0, (5, 3): 0, (5, 4): 0, (5, 5): None}\n",
            "{(1, 1): None, (1, 2): -5, (1, 3): -5, (1, 4): -5, (1, 5): None, (2, 1): -5, (2, 2): -5, (2, 3): -5, (2, 4): -5, (2, 5): -5, (3, 1): -5, (3, 2): -5, (3, 3): -5, (3, 4): -5, (3, 5): -5, (4, 1): -5, (4, 2): -5, (4, 3): -5, (4, 4): -5, (4, 5): 10, (5, 1): None, (5, 2): -5, (5, 3): -5, (5, 4): -5, (5, 5): None}\n"
          ]
        }
      ]
    },
    {
      "cell_type": "code",
      "source": [
        "def update_directions(directions,obstacle,col_size,row_size,curr_state):\n",
        "  for i in range(len(directions)):\n",
        "    if (directions[i] in obstacle) or (directions[i][0] > col_size or directions[i][1] > row_size) or (directions[i][0] < 1 or directions[i][1] < 1):\n",
        "      directions[i] = curr_state\n",
        "  return directions\n",
        "\n",
        "def pattern_order(destination=D, obstacle1=obstacle, col_size=5, row_size=5, hazard=H):\n",
        "  visited_nodes = []\n",
        "  curr_child_nodes = [destination] #curr iteration child nodes\n",
        "  child_nodes_order = [] #list of list i.e [[child_nodes in iteration 1], [child_nodes in iteration 2], .....]\n",
        "  while curr_child_nodes:\n",
        "    nxt_list = [] #next list of next child nodes to be iterated in the next while loop\n",
        "    for child in curr_child_nodes:\n",
        "      col, row = child\n",
        "      next_children = [(col+1,row),(col, row+1),(col-1, row),(col, row-1)]\n",
        "      # dir = set(update_directions(next_children,obstacle1,col_size,row_size,(col,row)))\n",
        "      # #to remove the None (because of obstacles)\n",
        "      # dir.remove(None)\n",
        "      possible_nxt_child = list(set(update_directions(next_children,obstacle1,col_size,row_size,(col,row))))\n",
        "      for node in possible_nxt_child:\n",
        "        nxt_list.append(node) if (node not in visited_nodes and node not in [destination, hazard]) else nxt_list\n",
        "        visited_nodes.append(node) if (node not in visited_nodes and node not in [destination,hazard]) else visited_nodes\n",
        "    child_nodes_order.append(nxt_list)\n",
        "    curr_child_nodes = nxt_list\n",
        "  return visited_nodes, child_nodes_order"
      ],
      "metadata": {
        "id": "rJERHBIVIZ85"
      },
      "execution_count": 2,
      "outputs": []
    },
    {
      "cell_type": "code",
      "source": [
        "u, v = pattern_order(D,obstacle,5,5,H)\n",
        "print(u)\n",
        "print(v)"
      ],
      "metadata": {
        "colab": {
          "base_uri": "https://localhost:8080/"
        },
        "id": "vQW-PW268mZb",
        "outputId": "815b05ea-2790-4a83-8b93-90856be822d5"
      },
      "execution_count": 3,
      "outputs": [
        {
          "output_type": "stream",
          "name": "stdout",
          "text": [
            "[(4, 4), (3, 5), (5, 4), (3, 4), (4, 3), (2, 5), (5, 3), (2, 4), (4, 2), (5, 2), (2, 3), (1, 4), (3, 2), (4, 1), (1, 3), (2, 2), (3, 1), (1, 2), (2, 1)]\n",
            "[[(4, 4), (3, 5)], [(5, 4), (3, 4), (4, 3), (2, 5)], [(5, 3), (2, 4), (4, 2)], [(5, 2), (2, 3), (1, 4), (3, 2), (4, 1)], [(1, 3), (2, 2), (3, 1)], [(1, 2), (2, 1)], []]\n"
          ]
        }
      ]
    },
    {
      "cell_type": "code",
      "source": [
        "def TransProb(state, U, col_size, row_size, obstacle, action):\n",
        "  col, row = state\n",
        "  new_directions = [(col+1,row),(col, row+1),(col-1, row),(col, row-1)] #right, up, left, down\n",
        "  obstacle_idx = set()\n",
        "  for i in range(len(new_directions)):\n",
        "    if new_directions[i] in obstacle:\n",
        "      obstacle_idx.add(i)\n",
        "  directions = update_directions(new_directions,obstacle,col_size,row_size,(col,row))\n",
        "  curr_right,curr_up,curr_left,curr_down  = directions[0], directions[1], directions[2], directions[3]\n",
        "  n_dest = 0\n",
        "  non_dest_index = [] #to save the obstacle positions index\n",
        "  for i in range(len(directions)):\n",
        "    if i not in obstacle_idx: #if not obstacle then add\n",
        "      n_dest += 1\n",
        "    else:\n",
        "      non_dest_index.append(i)\n",
        "  count = n_dest-1 #non-obstacle\n",
        "  p1 = 0.9\n",
        "  up_u, down_u, right_u, left_u = U[curr_up], U[curr_down], U[curr_right], U[curr_left]\n",
        "  if action == 'up':\n",
        "    if directions[3] != (col,row): #if bottom is not an obstacle but it is 180 degree it will become blocked so we decrease the count if bottom is not blocked.Since only obstacles are included earlier in n_dest\n",
        "      count -= 1\n",
        "    p2, p3 = 0.1/count, 0.1/count\n",
        "    for index in non_dest_index:\n",
        "      if index == 0:\n",
        "        right_u = 0\n",
        "      elif index == 1:\n",
        "        up_u = 0\n",
        "      elif index == 2:\n",
        "        left_u = 0\n",
        "    val = p1 * up_u + p2 * right_u + p3 * left_u\n",
        "    return count, val\n",
        "  elif action == 'down':\n",
        "    if directions[1] != (col,row): #opposite direction is up\n",
        "      count -= 1\n",
        "    p2, p3 = 0.1/count, 0.1/count\n",
        "    for index in non_dest_index:\n",
        "      if index == 0:\n",
        "        right_u = 0\n",
        "      elif index == 3:\n",
        "        down_u = 0\n",
        "      elif index == 2:\n",
        "        left_u = 0\n",
        "    val = p1 * down_u + p2 * right_u + p3 * left_u\n",
        "    return count, val\n",
        "  elif action == 'left':\n",
        "    if directions[0] != (col,row): #opposite direction is right\n",
        "      count -= 1\n",
        "    p2, p3 = 0.1/count, 0.1/count\n",
        "    for index in non_dest_index:\n",
        "      if index == 1:\n",
        "        up_u = 0\n",
        "      elif index == 3:\n",
        "        down_u = 0\n",
        "      elif index == 2:\n",
        "        left_u = 0\n",
        "    val = p1 * left_u + p2 * down_u + p3 * up_u\n",
        "    return count, val\n",
        "  elif action == 'right': #opoosite direction is left\n",
        "    if directions[2] != (col,row):\n",
        "      count -= 1\n",
        "    p2, p3 = 0.1/count, 0.1/count\n",
        "    for index in non_dest_index:\n",
        "      if index == 0:\n",
        "        right_u = 0\n",
        "      elif index == 3:\n",
        "        down_u = 0\n",
        "      elif index == 1:\n",
        "        up_u = 0\n",
        "    val = p1 * right_u + p2 * up_u + p3 * down_u\n",
        "    return count, val\n",
        "\n"
      ],
      "metadata": {
        "id": "hsTmL8WyYJeN"
      },
      "execution_count": 4,
      "outputs": []
    },
    {
      "cell_type": "code",
      "source": [
        "import copy\n",
        "# col_size, row_size = 5,5\n",
        "def valueIteration(threshold_value=0.01, max_iter=9, gamma=0.9, reward=reward, U=U, obstacle1=obstacle, U_new=U_new,col_size=5, row_size=5, destination=D, hazard=H):\n",
        "    curr_seen = seen = [destination]\n",
        "    k = 1\n",
        "    not_threshold_condition = True\n",
        "    all_states_order, child_nodes_order = pattern_order(destination,obstacle1,col_size,row_size,hazard)\n",
        "    while not_threshold_condition and k < max_iter:\n",
        "        for state in all_states_order:\n",
        "            max_val = float('-inf')\n",
        "            for action in ['right', 'up', 'left', 'down']:\n",
        "              demoni, Prob = TransProb(state, U, col_size, row_size, obstacle, action)\n",
        "              max_val = max(max_val, Prob)\n",
        "            U_new[state] = round(reward[state] + gamma * max_val,2)\n",
        "            not_threshold_condition = (not_threshold_condition and (U_new[state] - U[state] < threshold_value))\n",
        "        not_threshold_condition = not (not_threshold_condition)\n",
        "        U = copy.deepcopy(U_new)\n",
        "        k += 1\n",
        "    print(f\"At what iteration it's stopping {k}\")\n",
        "    return U"
      ],
      "metadata": {
        "id": "iosaO-ENepbx"
      },
      "execution_count": 5,
      "outputs": []
    },
    {
      "cell_type": "code",
      "source": [
        "# u1 = valueIteration(0.01, 1, 0.9,reward, U, obstacle, U_new, 5, 5,D,H)\n",
        "# u1"
      ],
      "metadata": {
        "id": "eHcX9HB18mS1",
        "colab": {
          "base_uri": "https://localhost:8080/"
        },
        "outputId": "3eae07d7-e821-480c-d0f3-6b0bf3814154"
      },
      "execution_count": 6,
      "outputs": [
        {
          "output_type": "stream",
          "name": "stdout",
          "text": [
            "At what iteration it's stopping 1\n"
          ]
        },
        {
          "output_type": "execute_result",
          "data": {
            "text/plain": [
              "{(1, 1): None,\n",
              " (1, 2): 0,\n",
              " (1, 3): 0,\n",
              " (1, 4): 0,\n",
              " (1, 5): None,\n",
              " (2, 1): 0,\n",
              " (2, 2): 0,\n",
              " (2, 3): 0,\n",
              " (2, 4): 0,\n",
              " (2, 5): 0,\n",
              " (3, 1): 0,\n",
              " (3, 2): 0,\n",
              " (3, 3): -5,\n",
              " (3, 4): 0,\n",
              " (3, 5): 0,\n",
              " (4, 1): 0,\n",
              " (4, 2): 0,\n",
              " (4, 3): 0,\n",
              " (4, 4): 0,\n",
              " (4, 5): 10,\n",
              " (5, 1): None,\n",
              " (5, 2): 0,\n",
              " (5, 3): 0,\n",
              " (5, 4): 0,\n",
              " (5, 5): None}"
            ]
          },
          "metadata": {},
          "execution_count": 6
        }
      ]
    },
    {
      "cell_type": "code",
      "source": [
        "# u2 = valueIteration(0.01, 2, 0.9,reward, U, obstacle, U_new, 5, 5,D,H)\n",
        "# u2"
      ],
      "metadata": {
        "colab": {
          "base_uri": "https://localhost:8080/"
        },
        "id": "GRQftENg8mQu",
        "outputId": "7adfd489-ad0e-4ba6-ee9f-0601321dc35a"
      },
      "execution_count": null,
      "outputs": [
        {
          "output_type": "stream",
          "name": "stdout",
          "text": [
            "At what iteration it's stopping 2\n"
          ]
        },
        {
          "output_type": "execute_result",
          "data": {
            "text/plain": [
              "{(1, 1): None,\n",
              " (1, 2): -5.0,\n",
              " (1, 3): -5.0,\n",
              " (1, 4): -5.0,\n",
              " (1, 5): None,\n",
              " (2, 1): -5.0,\n",
              " (2, 2): -5.0,\n",
              " (2, 3): -5.0,\n",
              " (2, 4): -5.0,\n",
              " (2, 5): -5.0,\n",
              " (3, 1): -5.0,\n",
              " (3, 2): -5.0,\n",
              " (3, 3): -5,\n",
              " (3, 4): -5.0,\n",
              " (3, 5): 3.1,\n",
              " (4, 1): -5.0,\n",
              " (4, 2): -5.0,\n",
              " (4, 3): -5.0,\n",
              " (4, 4): 3.1,\n",
              " (4, 5): 10,\n",
              " (5, 1): None,\n",
              " (5, 2): -5.0,\n",
              " (5, 3): -5.0,\n",
              " (5, 4): -5.0,\n",
              " (5, 5): None}"
            ]
          },
          "metadata": {},
          "execution_count": 6
        }
      ]
    },
    {
      "cell_type": "code",
      "source": [
        "# u3 = valueIteration(0.01, 3, 0.9,reward, U, obstacle, U_new, 5, 5,D,H)\n",
        "# u3"
      ],
      "metadata": {
        "colab": {
          "base_uri": "https://localhost:8080/"
        },
        "id": "4uNojRcEw9y_",
        "outputId": "1a552234-64be-4fe0-9da4-53b92cf9f1ea"
      },
      "execution_count": null,
      "outputs": [
        {
          "output_type": "stream",
          "name": "stdout",
          "text": [
            "At what iteration it's stopping 3\n"
          ]
        },
        {
          "output_type": "execute_result",
          "data": {
            "text/plain": [
              "{(1, 1): None,\n",
              " (1, 2): -5.9,\n",
              " (1, 3): -9.35,\n",
              " (1, 4): -5.9,\n",
              " (1, 5): None,\n",
              " (2, 1): -5.9,\n",
              " (2, 2): -9.5,\n",
              " (2, 3): -9.5,\n",
              " (2, 4): -9.5,\n",
              " (2, 5): -2.94,\n",
              " (3, 1): -9.35,\n",
              " (3, 2): -9.5,\n",
              " (3, 3): -5,\n",
              " (3, 4): -2.57,\n",
              " (3, 5): 3.01,\n",
              " (4, 1): -5.9,\n",
              " (4, 2): -9.5,\n",
              " (4, 3): -2.94,\n",
              " (4, 4): 2.65,\n",
              " (4, 5): 10,\n",
              " (5, 1): None,\n",
              " (5, 2): -5.9,\n",
              " (5, 3): -9.35,\n",
              " (5, 4): -2.71,\n",
              " (5, 5): None}"
            ]
          },
          "metadata": {},
          "execution_count": 6
        }
      ]
    },
    {
      "cell_type": "code",
      "source": [
        "# u8 = valueIteration(0.01, 8, 0.9,reward, U, obstacle, U_new, 5, 5,D,H)\n",
        "# u8"
      ],
      "metadata": {
        "colab": {
          "base_uri": "https://localhost:8080/"
        },
        "id": "_JyFdSHd60J9",
        "outputId": "dee80a9f-3145-45dd-88e3-040459c64cb8"
      },
      "execution_count": null,
      "outputs": [
        {
          "output_type": "stream",
          "name": "stdout",
          "text": [
            "At what iteration it's stopping 8\n"
          ]
        },
        {
          "output_type": "execute_result",
          "data": {
            "text/plain": [
              "{(1, 1): None,\n",
              " (1, 2): -6.59,\n",
              " (1, 3): -11.01,\n",
              " (1, 4): -6.26,\n",
              " (1, 5): None,\n",
              " (2, 1): -6.59,\n",
              " (2, 2): -11.07,\n",
              " (2, 3): -9.9,\n",
              " (2, 4): -7.76,\n",
              " (2, 5): -2.96,\n",
              " (3, 1): -11.06,\n",
              " (3, 2): -9.93,\n",
              " (3, 3): -5,\n",
              " (3, 4): -2.69,\n",
              " (3, 5): 3.12,\n",
              " (4, 1): -6.33,\n",
              " (4, 2): -8.39,\n",
              " (4, 3): -3.28,\n",
              " (4, 4): 2.84,\n",
              " (4, 5): 10,\n",
              " (5, 1): None,\n",
              " (5, 2): -6.33,\n",
              " (5, 3): -7.94,\n",
              " (5, 4): -3.06,\n",
              " (5, 5): None}"
            ]
          },
          "metadata": {},
          "execution_count": 6
        }
      ]
    },
    {
      "cell_type": "code",
      "source": [
        "u100 = valueIteration(0.01, 100, 0.9,reward, U, obstacle, U_new, 5, 5,D,H)\n",
        "u100"
      ],
      "metadata": {
        "colab": {
          "base_uri": "https://localhost:8080/"
        },
        "id": "JwoAHhrXa8JQ",
        "outputId": "8cd363b5-2931-413a-f460-3cc94d9f1096"
      },
      "execution_count": 6,
      "outputs": [
        {
          "output_type": "stream",
          "name": "stdout",
          "text": [
            "At what iteration it's stopping 9\n"
          ]
        },
        {
          "output_type": "execute_result",
          "data": {
            "text/plain": [
              "{(1, 1): None,\n",
              " (1, 2): -6.59,\n",
              " (1, 3): -11.01,\n",
              " (1, 4): -6.26,\n",
              " (1, 5): None,\n",
              " (2, 1): -6.59,\n",
              " (2, 2): -11.08,\n",
              " (2, 3): -9.9,\n",
              " (2, 4): -7.76,\n",
              " (2, 5): -2.96,\n",
              " (3, 1): -11.07,\n",
              " (3, 2): -9.93,\n",
              " (3, 3): -5,\n",
              " (3, 4): -2.69,\n",
              " (3, 5): 3.12,\n",
              " (4, 1): -6.32,\n",
              " (4, 2): -8.39,\n",
              " (4, 3): -3.28,\n",
              " (4, 4): 2.84,\n",
              " (4, 5): 10,\n",
              " (5, 1): None,\n",
              " (5, 2): -6.32,\n",
              " (5, 3): -7.94,\n",
              " (5, 4): -3.06,\n",
              " (5, 5): None}"
            ]
          },
          "metadata": {},
          "execution_count": 6
        }
      ]
    },
    {
      "cell_type": "code",
      "source": [
        "!pip install tabulate"
      ],
      "metadata": {
        "colab": {
          "base_uri": "https://localhost:8080/"
        },
        "id": "f5ykKUuN8mMm",
        "outputId": "98711bec-f606-419c-fdf9-e0292f5ebcf9"
      },
      "execution_count": 7,
      "outputs": [
        {
          "output_type": "stream",
          "name": "stdout",
          "text": [
            "Requirement already satisfied: tabulate in /usr/local/lib/python3.10/dist-packages (0.9.0)\n"
          ]
        }
      ]
    },
    {
      "cell_type": "code",
      "source": [
        "from tabulate import tabulate\n",
        "def visualise_table(row_size=5,col_size=5,input_val=u100):\n",
        "  table = []\n",
        "  for row in range(row_size,0,-1):\n",
        "    new_table_value = []\n",
        "    for col in range(1,col_size+1):\n",
        "      # if input_val[(col,row)] == 0:\n",
        "      #   input_val[(col,row)] = 0\n",
        "      if input_val[(col,row)] == None:\n",
        "        input_val[(col,row)] = 'X'\n",
        "      new_table_value.append(input_val[(col,row)])\n",
        "    table.append(new_table_value)\n",
        "  return table, tabulate(table, tablefmt=\"fancy_grid\")\n"
      ],
      "metadata": {
        "id": "UyUmh3BX8mKL"
      },
      "execution_count": 8,
      "outputs": []
    },
    {
      "cell_type": "code",
      "source": [
        "u_tba, v = visualise_table(5,5,u100)\n",
        "print(u_tba)\n",
        "print(v)"
      ],
      "metadata": {
        "colab": {
          "base_uri": "https://localhost:8080/"
        },
        "id": "wYHNe9kP8mHr",
        "outputId": "b8673ece-5e27-4767-a27c-d2d6fc840b82"
      },
      "execution_count": 9,
      "outputs": [
        {
          "output_type": "stream",
          "name": "stdout",
          "text": [
            "[['X', -2.96, 3.12, 10, 'X'], [-6.26, -7.76, -2.69, 2.84, -3.06], [-11.01, -9.9, -5, -3.28, -7.94], [-6.59, -11.08, -9.93, -8.39, -6.32], ['X', -6.59, -11.07, -6.32, 'X']]\n",
            "╒════════╤════════╤════════╤═══════╤═══════╕\n",
            "│ X      │  -2.96 │   3.12 │ 10    │ X     │\n",
            "├────────┼────────┼────────┼───────┼───────┤\n",
            "│ -6.26  │  -7.76 │  -2.69 │  2.84 │ -3.06 │\n",
            "├────────┼────────┼────────┼───────┼───────┤\n",
            "│ -11.01 │  -9.9  │  -5    │ -3.28 │ -7.94 │\n",
            "├────────┼────────┼────────┼───────┼───────┤\n",
            "│ -6.59  │ -11.08 │  -9.93 │ -8.39 │ -6.32 │\n",
            "├────────┼────────┼────────┼───────┼───────┤\n",
            "│ X      │  -6.59 │ -11.07 │ -6.32 │ X     │\n",
            "╘════════╧════════╧════════╧═══════╧═══════╛\n"
          ]
        }
      ]
    },
    {
      "cell_type": "code",
      "source": [
        "def get_arrow(row, col, table, obstacle, destination, hazard):\n",
        "  directions = [(row,col+1),(row+1,col),(row,col-1),(row-1,col)] #right, down, left, up\n",
        "  row_size,col_size = len(table), len(table[0])\n",
        "  for i in range(len(directions)):\n",
        "    row_val, col_val = directions[i][0], directions[i][1]\n",
        "    if (row_val >= row_size or col_val >= col_size) or (row_val < 0 or col_val < 0):\n",
        "        directions[i] = (row, col)\n",
        "    elif (row_val < row_size and col_val < col_size) and (row_val >= 0 and col_val >= 0):\n",
        "      if (table[row_val][col_val] == 'X'):\n",
        "        directions[i] = (row, col)\n",
        "  values = []\n",
        "  for direction in directions:\n",
        "    if direction:\n",
        "      row_val, col_val = direction\n",
        "      values.append(table[row_val][col_val])\n",
        "    else:\n",
        "      values.append(float('-inf'))\n",
        "  max_value = max(values)\n",
        "  index_max_val = [i for i, value in enumerate(values) if value == max_value]\n",
        "  ans = ''\n",
        "  if max_value != table[row][col]:\n",
        "    if max_value > table[row][col]:\n",
        "      for index_val in index_max_val:\n",
        "        if index_val == 0: #right\n",
        "          ans += '→'\n",
        "        elif index_val == 1: #down\n",
        "          ans += '↓'\n",
        "        elif index_val == 2: #left\n",
        "          ans += '←'\n",
        "        elif index_val == 3: #up\n",
        "          ans += '↑'\n",
        "    else:\n",
        "      ans += '-'\n",
        "  elif max_value == table[row][col]:\n",
        "      for index_val in index_max_val:\n",
        "        if index_val == 0: #right\n",
        "          ans += '→'\n",
        "        elif index_val == 1: #down\n",
        "          ans += '↓'\n",
        "        elif index_val == 2: #left\n",
        "          ans += '←'\n",
        "        elif index_val == 3: #up\n",
        "          ans += '↑'\n",
        "  return ans\n",
        "\n",
        "def visualise_policy(table=u_tba,destination=D,hazard=H,obstacle1=obstacle):\n",
        "  arrow = []\n",
        "  for row in range(len(table)):\n",
        "    new_arrow = []\n",
        "    for col in range(len(table[row])):\n",
        "      if (col+1,len(table)-row) != destination and (col+1,len(table)-row) != hazard and ((col+1,len(table)-row) not in obstacle1):\n",
        "        arrow_direction = get_arrow(row,col,table,obstacle1,destination,hazard)\n",
        "      else:\n",
        "        arrow_direction = table[row][col]\n",
        "      new_arrow.append(arrow_direction)\n",
        "    arrow.append(new_arrow)\n",
        "  return tabulate(arrow, tablefmt=\"fancy_grid\")\n"
      ],
      "metadata": {
        "id": "dVknAgKkC4Y6"
      },
      "execution_count": 11,
      "outputs": []
    },
    {
      "cell_type": "code",
      "source": [
        "policy_1 = visualise_policy(u_tba, D, H, obstacle)\n",
        "print(policy_1)"
      ],
      "metadata": {
        "colab": {
          "base_uri": "https://localhost:8080/"
        },
        "id": "ck7r4RbIC4Li",
        "outputId": "cc6787db-2deb-4701-8163-7ca0057a7379"
      },
      "execution_count": 12,
      "outputs": [
        {
          "output_type": "stream",
          "name": "stdout",
          "text": [
            "╒════╤════╤════╤════╤════╕\n",
            "│ X  │ →  │ →  │ 10 │ X  │\n",
            "├────┼────┼────┼────┼────┤\n",
            "│ ←↑ │ →  │ ↑  │ ↑  │ ←  │\n",
            "├────┼────┼────┼────┼────┤\n",
            "│ ↑  │ →  │ -5 │ ↑  │ ↑  │\n",
            "├────┼────┼────┼────┼────┤\n",
            "│ ↓← │ ↓← │ ↑  │ ↑  │ →↓ │\n",
            "├────┼────┼────┼────┼────┤\n",
            "│ X  │ ↓← │ →  │ →↓ │ X  │\n",
            "╘════╧════╧════╧════╧════╛\n"
          ]
        }
      ]
    },
    {
      "cell_type": "markdown",
      "source": [
        "#T3-1"
      ],
      "metadata": {
        "id": "9sowiT9cTwf2"
      }
    },
    {
      "cell_type": "code",
      "source": [
        "# R1=50, R2=-50 and r=-5\n",
        "r = -5 #live-in reward\n",
        "R1 = 50 #exit reward\n",
        "R2 = -50 #hazard reward\n",
        "D, H = (4,5), (3,3) #destination, hazard\n",
        "U_2 = {(col, row):0 for col in range(1,6) for row in range(1,6)}\n",
        "U_new2 = {(col, row):0 for col in range(1,6) for row in range(1,6)}\n",
        "reward_2 = {(col, row):r for col in range(1,6) for row in range(1,6)}\n",
        "U_2[D]= R1\n",
        "U_2[H]= R2\n",
        "U_new2[D]= R1\n",
        "U_new2[H]= R2\n",
        "reward_2[D]= R1\n",
        "reward_2[H]= R2\n",
        "obstacle = ((1,1),(1,5),(5,1),(5,5))\n",
        "for i in obstacle:\n",
        "  U_2[i] = None\n",
        "  U_new2[i] = None\n",
        "  reward_2[i] = None\n",
        "print(U_2)\n",
        "print(U_new2)\n",
        "print(reward_2)"
      ],
      "metadata": {
        "id": "6otKJD4BC4Gl",
        "colab": {
          "base_uri": "https://localhost:8080/"
        },
        "outputId": "523b73f1-0ca5-4ffd-cda1-72e4c66822f1"
      },
      "execution_count": 13,
      "outputs": [
        {
          "output_type": "stream",
          "name": "stdout",
          "text": [
            "{(1, 1): None, (1, 2): 0, (1, 3): 0, (1, 4): 0, (1, 5): None, (2, 1): 0, (2, 2): 0, (2, 3): 0, (2, 4): 0, (2, 5): 0, (3, 1): 0, (3, 2): 0, (3, 3): -50, (3, 4): 0, (3, 5): 0, (4, 1): 0, (4, 2): 0, (4, 3): 0, (4, 4): 0, (4, 5): 50, (5, 1): None, (5, 2): 0, (5, 3): 0, (5, 4): 0, (5, 5): None}\n",
            "{(1, 1): None, (1, 2): 0, (1, 3): 0, (1, 4): 0, (1, 5): None, (2, 1): 0, (2, 2): 0, (2, 3): 0, (2, 4): 0, (2, 5): 0, (3, 1): 0, (3, 2): 0, (3, 3): -50, (3, 4): 0, (3, 5): 0, (4, 1): 0, (4, 2): 0, (4, 3): 0, (4, 4): 0, (4, 5): 50, (5, 1): None, (5, 2): 0, (5, 3): 0, (5, 4): 0, (5, 5): None}\n",
            "{(1, 1): None, (1, 2): -5, (1, 3): -5, (1, 4): -5, (1, 5): None, (2, 1): -5, (2, 2): -5, (2, 3): -5, (2, 4): -5, (2, 5): -5, (3, 1): -5, (3, 2): -5, (3, 3): -50, (3, 4): -5, (3, 5): -5, (4, 1): -5, (4, 2): -5, (4, 3): -5, (4, 4): -5, (4, 5): 50, (5, 1): None, (5, 2): -5, (5, 3): -5, (5, 4): -5, (5, 5): None}\n"
          ]
        }
      ]
    },
    {
      "cell_type": "code",
      "source": [
        "u100_2 = valueIteration(0.01, 100, 0.9,reward_2, U_2, obstacle, U_new2, 5, 5,D,H)\n",
        "u100_2"
      ],
      "metadata": {
        "id": "L47cP7CyUEjp",
        "colab": {
          "base_uri": "https://localhost:8080/"
        },
        "outputId": "49c9c0c9-ef52-42af-e69e-4b226be751ea"
      },
      "execution_count": 14,
      "outputs": [
        {
          "output_type": "stream",
          "name": "stdout",
          "text": [
            "At what iteration it's stopping 16\n"
          ]
        },
        {
          "output_type": "execute_result",
          "data": {
            "text/plain": [
              "{(1, 1): None,\n",
              " (1, 2): -0.95,\n",
              " (1, 3): 4.91,\n",
              " (1, 4): 11.45,\n",
              " (1, 5): None,\n",
              " (2, 1): -2.79,\n",
              " (2, 2): 2.65,\n",
              " (2, 3): 9.2,\n",
              " (2, 4): 20.04,\n",
              " (2, 5): 28.39,\n",
              " (3, 1): 1.46,\n",
              " (3, 2): 5.35,\n",
              " (3, 3): -50,\n",
              " (3, 4): 28.82,\n",
              " (3, 5): 38.53,\n",
              " (4, 1): 7.6,\n",
              " (4, 2): 15.47,\n",
              " (4, 3): 24.35,\n",
              " (4, 4): 37.99,\n",
              " (4, 5): 50,\n",
              " (5, 1): None,\n",
              " (5, 2): 11.16,\n",
              " (5, 3): 18.47,\n",
              " (5, 4): 26.6,\n",
              " (5, 5): None}"
            ]
          },
          "metadata": {},
          "execution_count": 14
        }
      ]
    },
    {
      "cell_type": "code",
      "source": [
        "u_tba, v = visualise_table(5,5,u100_2)\n",
        "print(u_tba)\n",
        "print(v)"
      ],
      "metadata": {
        "colab": {
          "base_uri": "https://localhost:8080/"
        },
        "id": "2SOKZ2BtXm0x",
        "outputId": "ec275a4d-7bcf-476c-92d8-f6a09e8b18ce"
      },
      "execution_count": 15,
      "outputs": [
        {
          "output_type": "stream",
          "name": "stdout",
          "text": [
            "[['X', 28.39, 38.53, 50, 'X'], [11.45, 20.04, 28.82, 37.99, 26.6], [4.91, 9.2, -50, 24.35, 18.47], [-0.95, 2.65, 5.35, 15.47, 11.16], ['X', -2.79, 1.46, 7.6, 'X']]\n",
            "╒═══════╤═══════╤════════╤═══════╤═══════╕\n",
            "│ X     │ 28.39 │  38.53 │ 50    │ X     │\n",
            "├───────┼───────┼────────┼───────┼───────┤\n",
            "│ 11.45 │ 20.04 │  28.82 │ 37.99 │ 26.6  │\n",
            "├───────┼───────┼────────┼───────┼───────┤\n",
            "│ 4.91  │  9.2  │ -50    │ 24.35 │ 18.47 │\n",
            "├───────┼───────┼────────┼───────┼───────┤\n",
            "│ -0.95 │  2.65 │   5.35 │ 15.47 │ 11.16 │\n",
            "├───────┼───────┼────────┼───────┼───────┤\n",
            "│ X     │ -2.79 │   1.46 │  7.6  │ X     │\n",
            "╘═══════╧═══════╧════════╧═══════╧═══════╛\n"
          ]
        }
      ]
    },
    {
      "cell_type": "code",
      "source": [
        "policy_2 = visualise_policy(u_tba, D, H, obstacle)\n",
        "print(policy_2)"
      ],
      "metadata": {
        "id": "XJ8uCjtacxhP",
        "colab": {
          "base_uri": "https://localhost:8080/"
        },
        "outputId": "13ac3577-6d53-4770-a603-6110957f7714"
      },
      "execution_count": 16,
      "outputs": [
        {
          "output_type": "stream",
          "name": "stdout",
          "text": [
            "╒═══╤═══╤═════╤════╤═══╕\n",
            "│ X │ → │ →   │ 50 │ X │\n",
            "├───┼───┼─────┼────┼───┤\n",
            "│ → │ → │ ↑   │ ↑  │ ← │\n",
            "├───┼───┼─────┼────┼───┤\n",
            "│ ↑ │ ↑ │ -50 │ ↑  │ ↑ │\n",
            "├───┼───┼─────┼────┼───┤\n",
            "│ ↑ │ ↑ │ →   │ ↑  │ ↑ │\n",
            "├───┼───┼─────┼────┼───┤\n",
            "│ X │ ↑ │ →   │ ↑  │ X │\n",
            "╘═══╧═══╧═════╧════╧═══╛\n"
          ]
        }
      ]
    },
    {
      "cell_type": "markdown",
      "source": [
        "#T3-2"
      ],
      "metadata": {
        "id": "3YBaZoxKYRrR"
      }
    },
    {
      "cell_type": "code",
      "source": [
        "# R1=100, R2=-500, r=-5\n",
        "r = -5 #live-in reward\n",
        "R1 = 100 #exit reward\n",
        "R2 = -500 #hazard reward\n",
        "D, H = (4,5), (3,3) #destination, hazard\n",
        "U_3 = {(col, row):0 for col in range(1,6) for row in range(1,6)}\n",
        "U_new3 = {(col, row):0 for col in range(1,6) for row in range(1,6)}\n",
        "reward_3 = {(col, row):r for col in range(1,6) for row in range(1,6)}\n",
        "U_3[D]= R1\n",
        "U_3[H]= R2\n",
        "U_new3[D]= R1\n",
        "U_new3[H]= R2\n",
        "reward_3[D]= R1\n",
        "reward_3[H]= R2\n",
        "obstacle = ((1,1),(1,5),(5,1),(5,5))\n",
        "for i in obstacle:\n",
        "  U_3[i] = None\n",
        "  U_new3[i] = None\n",
        "  reward_3[i] = None\n",
        "print(U_3)\n",
        "print(U_new3)\n",
        "print(reward_3)"
      ],
      "metadata": {
        "colab": {
          "base_uri": "https://localhost:8080/"
        },
        "id": "tK-fiE6XXwqD",
        "outputId": "11989019-bf3e-4ead-9164-f1bbf2022320"
      },
      "execution_count": 17,
      "outputs": [
        {
          "output_type": "stream",
          "name": "stdout",
          "text": [
            "{(1, 1): None, (1, 2): 0, (1, 3): 0, (1, 4): 0, (1, 5): None, (2, 1): 0, (2, 2): 0, (2, 3): 0, (2, 4): 0, (2, 5): 0, (3, 1): 0, (3, 2): 0, (3, 3): -500, (3, 4): 0, (3, 5): 0, (4, 1): 0, (4, 2): 0, (4, 3): 0, (4, 4): 0, (4, 5): 100, (5, 1): None, (5, 2): 0, (5, 3): 0, (5, 4): 0, (5, 5): None}\n",
            "{(1, 1): None, (1, 2): 0, (1, 3): 0, (1, 4): 0, (1, 5): None, (2, 1): 0, (2, 2): 0, (2, 3): 0, (2, 4): 0, (2, 5): 0, (3, 1): 0, (3, 2): 0, (3, 3): -500, (3, 4): 0, (3, 5): 0, (4, 1): 0, (4, 2): 0, (4, 3): 0, (4, 4): 0, (4, 5): 100, (5, 1): None, (5, 2): 0, (5, 3): 0, (5, 4): 0, (5, 5): None}\n",
            "{(1, 1): None, (1, 2): -5, (1, 3): -5, (1, 4): -5, (1, 5): None, (2, 1): -5, (2, 2): -5, (2, 3): -5, (2, 4): -5, (2, 5): -5, (3, 1): -5, (3, 2): -5, (3, 3): -500, (3, 4): -5, (3, 5): -5, (4, 1): -5, (4, 2): -5, (4, 3): -5, (4, 4): -5, (4, 5): 100, (5, 1): None, (5, 2): -5, (5, 3): -5, (5, 4): -5, (5, 5): None}\n"
          ]
        }
      ]
    },
    {
      "cell_type": "code",
      "source": [
        "u100_3 = valueIteration(0.01, 100, 0.9,reward_3, U_3, obstacle, U_new3, 5, 5,D,H)\n",
        "u100_3"
      ],
      "metadata": {
        "colab": {
          "base_uri": "https://localhost:8080/"
        },
        "id": "JPeauj9kfVDV",
        "outputId": "5b3979e2-8f47-4bef-a41d-1b7108d727f9"
      },
      "execution_count": 18,
      "outputs": [
        {
          "output_type": "stream",
          "name": "stdout",
          "text": [
            "At what iteration it's stopping 18\n"
          ]
        },
        {
          "output_type": "execute_result",
          "data": {
            "text/plain": [
              "{(1, 1): None,\n",
              " (1, 2): 21.13,\n",
              " (1, 3): 30.27,\n",
              " (1, 4): 40.6,\n",
              " (1, 5): None,\n",
              " (2, 1): 7.37,\n",
              " (2, 2): 14.59,\n",
              " (2, 3): 22.63,\n",
              " (2, 4): 54.62,\n",
              " (2, 5): 67.56,\n",
              " (3, 1): 12.2,\n",
              " (3, 2): 6.9,\n",
              " (3, 3): -500,\n",
              " (3, 4): 68.2,\n",
              " (3, 5): 82.79,\n",
              " (4, 1): 20.17,\n",
              " (4, 2): 30.4,\n",
              " (4, 3): 41.14,\n",
              " (4, 4): 81.93,\n",
              " (4, 5): 100,\n",
              " (5, 1): None,\n",
              " (5, 2): 39.18,\n",
              " (5, 3): 50.68,\n",
              " (5, 4): 63.64,\n",
              " (5, 5): None}"
            ]
          },
          "metadata": {},
          "execution_count": 18
        }
      ]
    },
    {
      "cell_type": "code",
      "source": [
        "u_tba, v = visualise_table(5,5,u100_3)\n",
        "print(u_tba)\n",
        "print(v)"
      ],
      "metadata": {
        "colab": {
          "base_uri": "https://localhost:8080/"
        },
        "id": "MJglYSm3fbzi",
        "outputId": "a2d6c082-2de8-4ea2-f774-f64a481696ab"
      },
      "execution_count": 19,
      "outputs": [
        {
          "output_type": "stream",
          "name": "stdout",
          "text": [
            "[['X', 67.56, 82.79, 100, 'X'], [40.6, 54.62, 68.2, 81.93, 63.64], [30.27, 22.63, -500, 41.14, 50.68], [21.13, 14.59, 6.9, 30.4, 39.18], ['X', 7.37, 12.2, 20.17, 'X']]\n",
            "╒═══════╤═══════╤═════════╤════════╤═══════╕\n",
            "│ X     │ 67.56 │   82.79 │ 100    │ X     │\n",
            "├───────┼───────┼─────────┼────────┼───────┤\n",
            "│ 40.6  │ 54.62 │   68.2  │  81.93 │ 63.64 │\n",
            "├───────┼───────┼─────────┼────────┼───────┤\n",
            "│ 30.27 │ 22.63 │ -500    │  41.14 │ 50.68 │\n",
            "├───────┼───────┼─────────┼────────┼───────┤\n",
            "│ 21.13 │ 14.59 │    6.9  │  30.4  │ 39.18 │\n",
            "├───────┼───────┼─────────┼────────┼───────┤\n",
            "│ X     │  7.37 │   12.2  │  20.17 │ X     │\n",
            "╘═══════╧═══════╧═════════╧════════╧═══════╛\n"
          ]
        }
      ]
    },
    {
      "cell_type": "code",
      "source": [
        "policy_3 = visualise_policy(u_tba, D, H, obstacle)\n",
        "print(policy_3)"
      ],
      "metadata": {
        "colab": {
          "base_uri": "https://localhost:8080/"
        },
        "id": "2YwRxjCdffVg",
        "outputId": "cf4a1340-04e2-4965-fcd1-718df67ecddf"
      },
      "execution_count": 20,
      "outputs": [
        {
          "output_type": "stream",
          "name": "stdout",
          "text": [
            "╒═══╤═══╤══════╤═════╤═══╕\n",
            "│ X │ → │ →    │ 100 │ X │\n",
            "├───┼───┼──────┼─────┼───┤\n",
            "│ → │ → │ ↑    │ ↑   │ ← │\n",
            "├───┼───┼──────┼─────┼───┤\n",
            "│ ↑ │ ↑ │ -500 │ ↑   │ ↑ │\n",
            "├───┼───┼──────┼─────┼───┤\n",
            "│ ↑ │ ↑ │ →    │ ↑   │ ↑ │\n",
            "├───┼───┼──────┼─────┼───┤\n",
            "│ X │ ↑ │ →    │ ↑   │ X │\n",
            "╘═══╧═══╧══════╧═════╧═══╛\n"
          ]
        }
      ]
    },
    {
      "cell_type": "markdown",
      "source": [
        "#T3-3"
      ],
      "metadata": {
        "id": "AYjkRuSnhD8S"
      }
    },
    {
      "cell_type": "markdown",
      "source": [
        "using R1 and R2 from policy 3"
      ],
      "metadata": {
        "id": "2bhSik7pEGBF"
      }
    },
    {
      "cell_type": "code",
      "source": [
        "# R1=100, R2=-500, r=-1\n",
        "r = -1 #live-in reward\n",
        "R1 = 100 #exit reward\n",
        "R2 = -500 #hazard reward\n",
        "D, H = (4,5), (3,3) #destination, hazard\n",
        "U_4_1 = {(col, row):0 for col in range(1,6) for row in range(1,6)}\n",
        "U_new4_1 = {(col, row):0 for col in range(1,6) for row in range(1,6)}\n",
        "reward_4_1 = {(col, row):r for col in range(1,6) for row in range(1,6)}\n",
        "U_4_1[D]= R1\n",
        "U_4_1[H]= R2\n",
        "U_new4_1[D]= R1\n",
        "U_new4_1[H]= R2\n",
        "reward_4_1[D]= R1\n",
        "reward_4_1[H]= R2\n",
        "obstacle = ((1,1),(1,5),(5,1),(5,5))\n",
        "for i in obstacle:\n",
        "  U_4_1[i] = None\n",
        "  U_new4_1[i] = None\n",
        "  reward_4_1[i] = None\n",
        "print(U_4_1)\n",
        "print(U_new4_1)\n",
        "print(reward_4_1)"
      ],
      "metadata": {
        "colab": {
          "base_uri": "https://localhost:8080/"
        },
        "id": "fLLmT8z2fpt6",
        "outputId": "0306c635-0087-4354-e378-b84555f35bf0"
      },
      "execution_count": 21,
      "outputs": [
        {
          "output_type": "stream",
          "name": "stdout",
          "text": [
            "{(1, 1): None, (1, 2): 0, (1, 3): 0, (1, 4): 0, (1, 5): None, (2, 1): 0, (2, 2): 0, (2, 3): 0, (2, 4): 0, (2, 5): 0, (3, 1): 0, (3, 2): 0, (3, 3): -500, (3, 4): 0, (3, 5): 0, (4, 1): 0, (4, 2): 0, (4, 3): 0, (4, 4): 0, (4, 5): 100, (5, 1): None, (5, 2): 0, (5, 3): 0, (5, 4): 0, (5, 5): None}\n",
            "{(1, 1): None, (1, 2): 0, (1, 3): 0, (1, 4): 0, (1, 5): None, (2, 1): 0, (2, 2): 0, (2, 3): 0, (2, 4): 0, (2, 5): 0, (3, 1): 0, (3, 2): 0, (3, 3): -500, (3, 4): 0, (3, 5): 0, (4, 1): 0, (4, 2): 0, (4, 3): 0, (4, 4): 0, (4, 5): 100, (5, 1): None, (5, 2): 0, (5, 3): 0, (5, 4): 0, (5, 5): None}\n",
            "{(1, 1): None, (1, 2): -1, (1, 3): -1, (1, 4): -1, (1, 5): None, (2, 1): -1, (2, 2): -1, (2, 3): -1, (2, 4): -1, (2, 5): -1, (3, 1): -1, (3, 2): -1, (3, 3): -500, (3, 4): -1, (3, 5): -1, (4, 1): -1, (4, 2): -1, (4, 3): -1, (4, 4): -1, (4, 5): 100, (5, 1): None, (5, 2): -1, (5, 3): -1, (5, 4): -1, (5, 5): None}\n"
          ]
        }
      ]
    },
    {
      "cell_type": "code",
      "source": [
        "u100_4_1 = valueIteration(0.01, 100, 0.9,reward_4_1, U_4_1, obstacle, U_new4_1, 5, 5,D,H)\n",
        "u100_4_1"
      ],
      "metadata": {
        "colab": {
          "base_uri": "https://localhost:8080/"
        },
        "id": "mjCZDTwBiSxa",
        "outputId": "2919a636-ebd5-432b-db86-86060a006a07"
      },
      "execution_count": 22,
      "outputs": [
        {
          "output_type": "stream",
          "name": "stdout",
          "text": [
            "At what iteration it's stopping 20\n"
          ]
        },
        {
          "output_type": "execute_result",
          "data": {
            "text/plain": [
              "{(1, 1): None,\n",
              " (1, 2): 41.14,\n",
              " (1, 3): 47.71,\n",
              " (1, 4): 55.14,\n",
              " (1, 5): None,\n",
              " (2, 1): 30.05,\n",
              " (2, 2): 36.46,\n",
              " (2, 3): 42.29,\n",
              " (2, 4): 66.66,\n",
              " (2, 5): 76.21,\n",
              " (3, 1): 33.82,\n",
              " (3, 2): 30.2,\n",
              " (3, 3): -500,\n",
              " (3, 4): 76.68,\n",
              " (3, 5): 87.38,\n",
              " (4, 1): 39.43,\n",
              " (4, 2): 48.04,\n",
              " (4, 3): 55.84,\n",
              " (4, 4): 86.69,\n",
              " (4, 5): 100,\n",
              " (5, 1): None,\n",
              " (5, 2): 54.39,\n",
              " (5, 3): 62.69,\n",
              " (5, 4): 72.04,\n",
              " (5, 5): None}"
            ]
          },
          "metadata": {},
          "execution_count": 22
        }
      ]
    },
    {
      "cell_type": "code",
      "source": [
        "u_tba, v = visualise_table(5,5,u100_4_1)\n",
        "print(u_tba)\n",
        "print(v)"
      ],
      "metadata": {
        "colab": {
          "base_uri": "https://localhost:8080/"
        },
        "id": "hrXFu6HoiWPF",
        "outputId": "80f30da0-6159-48ea-9e00-b9a0ae29a69d"
      },
      "execution_count": 23,
      "outputs": [
        {
          "output_type": "stream",
          "name": "stdout",
          "text": [
            "[['X', 76.21, 87.38, 100, 'X'], [55.14, 66.66, 76.68, 86.69, 72.04], [47.71, 42.29, -500, 55.84, 62.69], [41.14, 36.46, 30.2, 48.04, 54.39], ['X', 30.05, 33.82, 39.43, 'X']]\n",
            "╒═══════╤═══════╤═════════╤════════╤═══════╕\n",
            "│ X     │ 76.21 │   87.38 │ 100    │ X     │\n",
            "├───────┼───────┼─────────┼────────┼───────┤\n",
            "│ 55.14 │ 66.66 │   76.68 │  86.69 │ 72.04 │\n",
            "├───────┼───────┼─────────┼────────┼───────┤\n",
            "│ 47.71 │ 42.29 │ -500    │  55.84 │ 62.69 │\n",
            "├───────┼───────┼─────────┼────────┼───────┤\n",
            "│ 41.14 │ 36.46 │   30.2  │  48.04 │ 54.39 │\n",
            "├───────┼───────┼─────────┼────────┼───────┤\n",
            "│ X     │ 30.05 │   33.82 │  39.43 │ X     │\n",
            "╘═══════╧═══════╧═════════╧════════╧═══════╛\n"
          ]
        }
      ]
    },
    {
      "cell_type": "code",
      "source": [
        "policy_4_1 = visualise_policy(u_tba, D, H, obstacle)\n",
        "print(policy_4_1)"
      ],
      "metadata": {
        "colab": {
          "base_uri": "https://localhost:8080/"
        },
        "id": "Hj_NW8Vqifq6",
        "outputId": "3f79017c-2a18-4656-c256-b370d8eb0951"
      },
      "execution_count": 24,
      "outputs": [
        {
          "output_type": "stream",
          "name": "stdout",
          "text": [
            "╒═══╤═══╤══════╤═════╤═══╕\n",
            "│ X │ → │ →    │ 100 │ X │\n",
            "├───┼───┼──────┼─────┼───┤\n",
            "│ → │ → │ ↑    │ ↑   │ ← │\n",
            "├───┼───┼──────┼─────┼───┤\n",
            "│ ↑ │ ↑ │ -500 │ ↑   │ ↑ │\n",
            "├───┼───┼──────┼─────┼───┤\n",
            "│ ↑ │ ↑ │ →    │ ↑   │ ↑ │\n",
            "├───┼───┼──────┼─────┼───┤\n",
            "│ X │ ↑ │ →    │ ↑   │ X │\n",
            "╘═══╧═══╧══════╧═════╧═══╛\n"
          ]
        }
      ]
    },
    {
      "cell_type": "markdown",
      "source": [
        "Using R1 and R2 from policy 2"
      ],
      "metadata": {
        "id": "ORTXa5YfEJJH"
      }
    },
    {
      "cell_type": "code",
      "source": [
        "r = -1 #live-in reward\n",
        "R1 = 50 #exit reward\n",
        "R2 = -50 #hazard reward\n",
        "D, H = (4,5), (3,3) #destination, hazard\n",
        "U_4_2 = {(col, row):0 for col in range(1,6) for row in range(1,6)}\n",
        "U_new4_2 = {(col, row):0 for col in range(1,6) for row in range(1,6)}\n",
        "reward_4_2 = {(col, row):r for col in range(1,6) for row in range(1,6)}\n",
        "U_4_2[D]= R1\n",
        "U_4_2[H]= R2\n",
        "U_new4_2[D]= R1\n",
        "U_new4_2[H]= R2\n",
        "reward_4_2[D]= R1\n",
        "reward_4_2[H]= R2\n",
        "obstacle = ((1,1),(1,5),(5,1),(5,5))\n",
        "for i in obstacle:\n",
        "  U_4_2[i] = None\n",
        "  U_new4_2[i] = None\n",
        "  reward_4_2[i] = None\n",
        "print(U_4_2)\n",
        "print(U_new4_2)\n",
        "print(reward_4_2)"
      ],
      "metadata": {
        "colab": {
          "base_uri": "https://localhost:8080/"
        },
        "id": "GtZIMG0_iqZc",
        "outputId": "a4298082-f71f-4824-887e-6738a17dbf4a"
      },
      "execution_count": 25,
      "outputs": [
        {
          "output_type": "stream",
          "name": "stdout",
          "text": [
            "{(1, 1): None, (1, 2): 0, (1, 3): 0, (1, 4): 0, (1, 5): None, (2, 1): 0, (2, 2): 0, (2, 3): 0, (2, 4): 0, (2, 5): 0, (3, 1): 0, (3, 2): 0, (3, 3): -50, (3, 4): 0, (3, 5): 0, (4, 1): 0, (4, 2): 0, (4, 3): 0, (4, 4): 0, (4, 5): 50, (5, 1): None, (5, 2): 0, (5, 3): 0, (5, 4): 0, (5, 5): None}\n",
            "{(1, 1): None, (1, 2): 0, (1, 3): 0, (1, 4): 0, (1, 5): None, (2, 1): 0, (2, 2): 0, (2, 3): 0, (2, 4): 0, (2, 5): 0, (3, 1): 0, (3, 2): 0, (3, 3): -50, (3, 4): 0, (3, 5): 0, (4, 1): 0, (4, 2): 0, (4, 3): 0, (4, 4): 0, (4, 5): 50, (5, 1): None, (5, 2): 0, (5, 3): 0, (5, 4): 0, (5, 5): None}\n",
            "{(1, 1): None, (1, 2): -1, (1, 3): -1, (1, 4): -1, (1, 5): None, (2, 1): -1, (2, 2): -1, (2, 3): -1, (2, 4): -1, (2, 5): -1, (3, 1): -1, (3, 2): -1, (3, 3): -50, (3, 4): -1, (3, 5): -1, (4, 1): -1, (4, 2): -1, (4, 3): -1, (4, 4): -1, (4, 5): 50, (5, 1): None, (5, 2): -1, (5, 3): -1, (5, 4): -1, (5, 5): None}\n"
          ]
        }
      ]
    },
    {
      "cell_type": "code",
      "source": [
        "u100_4_2 = valueIteration(0.01, 100, 0.9,reward_4_2, U_4_2, obstacle, U_new4_2, 5, 5,D,H)\n",
        "u100_4_2"
      ],
      "metadata": {
        "colab": {
          "base_uri": "https://localhost:8080/"
        },
        "id": "x03ocIdjq29m",
        "outputId": "c9a4a574-5d1f-4714-8a56-1946fac29b19"
      },
      "execution_count": 26,
      "outputs": [
        {
          "output_type": "stream",
          "name": "stdout",
          "text": [
            "At what iteration it's stopping 15\n"
          ]
        },
        {
          "output_type": "execute_result",
          "data": {
            "text/plain": [
              "{(1, 1): None,\n",
              " (1, 2): 18.54,\n",
              " (1, 3): 21.99,\n",
              " (1, 4): 25.85,\n",
              " (1, 5): None,\n",
              " (2, 1): 15.92,\n",
              " (2, 2): 19.85,\n",
              " (2, 3): 23.6,\n",
              " (2, 4): 31.93,\n",
              " (2, 5): 37.03,\n",
              " (3, 1): 18.7,\n",
              " (3, 2): 19.92,\n",
              " (3, 3): -50,\n",
              " (3, 4): 37.29,\n",
              " (3, 5): 43.12,\n",
              " (4, 1): 22.17,\n",
              " (4, 2): 27.57,\n",
              " (4, 3): 32.73,\n",
              " (4, 4): 42.75,\n",
              " (4, 5): 50,\n",
              " (5, 1): None,\n",
              " (5, 2): 25.83,\n",
              " (5, 3): 30.16,\n",
              " (5, 4): 34.98,\n",
              " (5, 5): None}"
            ]
          },
          "metadata": {},
          "execution_count": 26
        }
      ]
    },
    {
      "cell_type": "code",
      "source": [
        "u_tba, v = visualise_table(5,5,u100_4_2)\n",
        "print(u_tba)\n",
        "print(v)"
      ],
      "metadata": {
        "colab": {
          "base_uri": "https://localhost:8080/"
        },
        "id": "5VTspQWJrC64",
        "outputId": "9203e135-771c-4d99-fc66-85235c861c09"
      },
      "execution_count": 27,
      "outputs": [
        {
          "output_type": "stream",
          "name": "stdout",
          "text": [
            "[['X', 37.03, 43.12, 50, 'X'], [25.85, 31.93, 37.29, 42.75, 34.98], [21.99, 23.6, -50, 32.73, 30.16], [18.54, 19.85, 19.92, 27.57, 25.83], ['X', 15.92, 18.7, 22.17, 'X']]\n",
            "╒═══════╤═══════╤════════╤═══════╤═══════╕\n",
            "│ X     │ 37.03 │  43.12 │ 50    │ X     │\n",
            "├───────┼───────┼────────┼───────┼───────┤\n",
            "│ 25.85 │ 31.93 │  37.29 │ 42.75 │ 34.98 │\n",
            "├───────┼───────┼────────┼───────┼───────┤\n",
            "│ 21.99 │ 23.6  │ -50    │ 32.73 │ 30.16 │\n",
            "├───────┼───────┼────────┼───────┼───────┤\n",
            "│ 18.54 │ 19.85 │  19.92 │ 27.57 │ 25.83 │\n",
            "├───────┼───────┼────────┼───────┼───────┤\n",
            "│ X     │ 15.92 │  18.7  │ 22.17 │ X     │\n",
            "╘═══════╧═══════╧════════╧═══════╧═══════╛\n"
          ]
        }
      ]
    },
    {
      "cell_type": "code",
      "source": [
        "policy_4_2 = visualise_policy(u_tba, D, H, obstacle)\n",
        "print(policy_4_2)"
      ],
      "metadata": {
        "id": "p3fnB6GprGyN",
        "outputId": "77211c48-e17d-4fd4-d1a7-a38cf41c67e3",
        "colab": {
          "base_uri": "https://localhost:8080/"
        }
      },
      "execution_count": 28,
      "outputs": [
        {
          "output_type": "stream",
          "name": "stdout",
          "text": [
            "╒═══╤═══╤═════╤════╤═══╕\n",
            "│ X │ → │ →   │ 50 │ X │\n",
            "├───┼───┼─────┼────┼───┤\n",
            "│ → │ → │ ↑   │ ↑  │ ← │\n",
            "├───┼───┼─────┼────┼───┤\n",
            "│ ↑ │ ↑ │ -50 │ ↑  │ ↑ │\n",
            "├───┼───┼─────┼────┼───┤\n",
            "│ ↑ │ ↑ │ →   │ ↑  │ ↑ │\n",
            "├───┼───┼─────┼────┼───┤\n",
            "│ X │ ↑ │ →   │ ↑  │ X │\n",
            "╘═══╧═══╧═════╧════╧═══╛\n"
          ]
        }
      ]
    },
    {
      "cell_type": "markdown",
      "source": [
        "If we use r=-1 for policy 1 R1 and R2 values, ran the below code."
      ],
      "metadata": {
        "id": "zmtijXlNxx9p"
      }
    },
    {
      "cell_type": "code",
      "source": [
        "r = -1 #live-in reward\n",
        "R1 = 10 #exit reward\n",
        "R2 = -5 #hazard reward\n",
        "D, H = (4,5), (3,3) #destination, hazard\n",
        "U_5 = {(col, row):0 for col in range(1,6) for row in range(1,6)}\n",
        "U_new5 = {(col, row):0 for col in range(1,6) for row in range(1,6)}\n",
        "reward_5 = {(col, row):r for col in range(1,6) for row in range(1,6)}\n",
        "U_5[D]= R1\n",
        "U_5[H]= R2\n",
        "U_new5[D]= R1\n",
        "U_new5[H]= R2\n",
        "reward_5[D]= R1\n",
        "reward_5[H]= R2\n",
        "obstacle = ((1,1),(1,5),(5,1),(5,5))\n",
        "for i in obstacle:\n",
        "  U_5[i] = None\n",
        "  U_new5[i] = None\n",
        "  reward_5[i] = None\n",
        "print(U_5)\n",
        "print(U_new5)\n",
        "print(reward_5)"
      ],
      "metadata": {
        "id": "qW4SmjtBrLC1",
        "colab": {
          "base_uri": "https://localhost:8080/"
        },
        "outputId": "f9b043ff-c02b-4c19-caa9-7ef3b77fdc59"
      },
      "execution_count": 29,
      "outputs": [
        {
          "output_type": "stream",
          "name": "stdout",
          "text": [
            "{(1, 1): None, (1, 2): 0, (1, 3): 0, (1, 4): 0, (1, 5): None, (2, 1): 0, (2, 2): 0, (2, 3): 0, (2, 4): 0, (2, 5): 0, (3, 1): 0, (3, 2): 0, (3, 3): -5, (3, 4): 0, (3, 5): 0, (4, 1): 0, (4, 2): 0, (4, 3): 0, (4, 4): 0, (4, 5): 10, (5, 1): None, (5, 2): 0, (5, 3): 0, (5, 4): 0, (5, 5): None}\n",
            "{(1, 1): None, (1, 2): 0, (1, 3): 0, (1, 4): 0, (1, 5): None, (2, 1): 0, (2, 2): 0, (2, 3): 0, (2, 4): 0, (2, 5): 0, (3, 1): 0, (3, 2): 0, (3, 3): -5, (3, 4): 0, (3, 5): 0, (4, 1): 0, (4, 2): 0, (4, 3): 0, (4, 4): 0, (4, 5): 10, (5, 1): None, (5, 2): 0, (5, 3): 0, (5, 4): 0, (5, 5): None}\n",
            "{(1, 1): None, (1, 2): -1, (1, 3): -1, (1, 4): -1, (1, 5): None, (2, 1): -1, (2, 2): -1, (2, 3): -1, (2, 4): -1, (2, 5): -1, (3, 1): -1, (3, 2): -1, (3, 3): -5, (3, 4): -1, (3, 5): -1, (4, 1): -1, (4, 2): -1, (4, 3): -1, (4, 4): -1, (4, 5): 10, (5, 1): None, (5, 2): -1, (5, 3): -1, (5, 4): -1, (5, 5): None}\n"
          ]
        }
      ]
    },
    {
      "cell_type": "code",
      "source": [
        "u100_5 = valueIteration(0.01, 100, 0.9,reward_5, U_5, obstacle, U_new5, 5, 5,D,H)\n",
        "u100_5"
      ],
      "metadata": {
        "colab": {
          "base_uri": "https://localhost:8080/"
        },
        "id": "Zoka2SkuCISp",
        "outputId": "27159d70-7bdc-4edd-e658-028948855cb7"
      },
      "execution_count": 30,
      "outputs": [
        {
          "output_type": "stream",
          "name": "stdout",
          "text": [
            "At what iteration it's stopping 14\n"
          ]
        },
        {
          "output_type": "execute_result",
          "data": {
            "text/plain": [
              "{(1, 1): None,\n",
              " (1, 2): -0.16,\n",
              " (1, 3): 1.0,\n",
              " (1, 4): 2.3,\n",
              " (1, 5): None,\n",
              " (2, 1): -0.38,\n",
              " (2, 2): 0.74,\n",
              " (2, 3): 2.08,\n",
              " (2, 4): 4.02,\n",
              " (2, 5): 5.68,\n",
              " (3, 1): 0.46,\n",
              " (3, 2): 1.47,\n",
              " (3, 3): -5,\n",
              " (3, 4): 5.77,\n",
              " (3, 5): 7.71,\n",
              " (4, 1): 1.69,\n",
              " (4, 2): 3.3,\n",
              " (4, 3): 5.1,\n",
              " (4, 4): 7.6,\n",
              " (4, 5): 10,\n",
              " (5, 1): None,\n",
              " (5, 2): 2.25,\n",
              " (5, 3): 3.71,\n",
              " (5, 4): 5.32,\n",
              " (5, 5): None}"
            ]
          },
          "metadata": {},
          "execution_count": 30
        }
      ]
    },
    {
      "cell_type": "code",
      "source": [
        "u_tba, v = visualise_table(5,5,u100_5)\n",
        "print(u_tba)\n",
        "print(v)"
      ],
      "metadata": {
        "colab": {
          "base_uri": "https://localhost:8080/"
        },
        "id": "Nkcea4EGCTBt",
        "outputId": "8377dbb2-dae8-4280-cda7-9da4c94a5a93"
      },
      "execution_count": 31,
      "outputs": [
        {
          "output_type": "stream",
          "name": "stdout",
          "text": [
            "[['X', 5.68, 7.71, 10, 'X'], [2.3, 4.02, 5.77, 7.6, 5.32], [1.0, 2.08, -5, 5.1, 3.71], [-0.16, 0.74, 1.47, 3.3, 2.25], ['X', -0.38, 0.46, 1.69, 'X']]\n",
            "╒═══════╤═══════╤═══════╤═══════╤══════╕\n",
            "│ X     │  5.68 │  7.71 │ 10    │ X    │\n",
            "├───────┼───────┼───────┼───────┼──────┤\n",
            "│ 2.3   │  4.02 │  5.77 │  7.6  │ 5.32 │\n",
            "├───────┼───────┼───────┼───────┼──────┤\n",
            "│ 1.0   │  2.08 │ -5    │  5.1  │ 3.71 │\n",
            "├───────┼───────┼───────┼───────┼──────┤\n",
            "│ -0.16 │  0.74 │  1.47 │  3.3  │ 2.25 │\n",
            "├───────┼───────┼───────┼───────┼──────┤\n",
            "│ X     │ -0.38 │  0.46 │  1.69 │ X    │\n",
            "╘═══════╧═══════╧═══════╧═══════╧══════╛\n"
          ]
        }
      ]
    },
    {
      "cell_type": "code",
      "source": [
        "policy_new = visualise_policy(u_tba, D, H, obstacle)\n",
        "print(policy_new)"
      ],
      "metadata": {
        "id": "ZoNifHf2CWhU",
        "outputId": "0998b118-3563-4150-c46b-3412dfc273fd",
        "colab": {
          "base_uri": "https://localhost:8080/"
        }
      },
      "execution_count": 32,
      "outputs": [
        {
          "output_type": "stream",
          "name": "stdout",
          "text": [
            "╒═══╤═══╤════╤════╤═══╕\n",
            "│ X │ → │ →  │ 10 │ X │\n",
            "├───┼───┼────┼────┼───┤\n",
            "│ → │ → │ ↑  │ ↑  │ ← │\n",
            "├───┼───┼────┼────┼───┤\n",
            "│ ↑ │ ↑ │ -5 │ ↑  │ ↑ │\n",
            "├───┼───┼────┼────┼───┤\n",
            "│ ↑ │ ↑ │ →  │ ↑  │ ↑ │\n",
            "├───┼───┼────┼────┼───┤\n",
            "│ X │ ↑ │ →  │ ↑  │ X │\n",
            "╘═══╧═══╧════╧════╧═══╛\n"
          ]
        }
      ]
    },
    {
      "cell_type": "code",
      "source": [],
      "metadata": {
        "id": "_11-AtolCbMh"
      },
      "execution_count": null,
      "outputs": []
    }
  ]
}